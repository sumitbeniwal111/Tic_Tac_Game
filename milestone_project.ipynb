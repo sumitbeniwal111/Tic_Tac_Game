{
 "cells": [
  {
   "cell_type": "code",
   "execution_count": 1,
   "metadata": {},
   "outputs": [],
   "source": [
    "from IPython.display import clear_output\n",
    "\n",
    "def display_board(board):\n",
    "    clear_output()\n",
    "    print(board[6]+'|'+board[7]+'|'+board[8])\n",
    "    print(board[3]+'|'+board[4]+'|'+board[5])\n",
    "    print(board[0]+'|'+board[1]+'|'+board[2])\n"
   ]
  },
  {
   "cell_type": "code",
   "execution_count": 2,
   "metadata": {},
   "outputs": [
    {
     "name": "stdout",
     "output_type": "stream",
     "text": [
      "X|O|X\n",
      "O|X|O\n",
      "X|O|X\n"
     ]
    }
   ],
   "source": [
    "test_board = ['X','O','X','O','X','O','X','O','X']\n",
    "display_board(test_board)"
   ]
  },
  {
   "cell_type": "code",
   "execution_count": 3,
   "metadata": {},
   "outputs": [],
   "source": [
    "def player_input():\n",
    "    marker = 'wrong'\n",
    "    while marker!= 'X' and marker!='O':\n",
    "        marker = input(\"Player 1,choose 'X' or 'O':\").upper()\n",
    "        \n",
    "    player1 = marker\n",
    "    if player1=='X':\n",
    "        player2 = 'O'\n",
    "    else:\n",
    "        player2 = 'X'\n",
    "    return(player1,player2)"
   ]
  },
  {
   "cell_type": "code",
   "execution_count": 4,
   "metadata": {},
   "outputs": [
    {
     "data": {
      "text/plain": [
       "('X', 'O')"
      ]
     },
     "execution_count": 4,
     "metadata": {},
     "output_type": "execute_result"
    }
   ],
   "source": [
    "player_input()"
   ]
  },
  {
   "cell_type": "code",
   "execution_count": 5,
   "metadata": {},
   "outputs": [
    {
     "data": {
      "text/plain": [
       "'O'"
      ]
     },
     "execution_count": 5,
     "metadata": {},
     "output_type": "execute_result"
    }
   ],
   "source": [
    "player1_marker,player2_marker = player_input()\n",
    "player2_marker"
   ]
  },
  {
   "cell_type": "code",
   "execution_count": 6,
   "metadata": {},
   "outputs": [],
   "source": [
    "def place_marker(board,marker,position):\n",
    "    board[position] = marker"
   ]
  },
  {
   "cell_type": "code",
   "execution_count": 7,
   "metadata": {},
   "outputs": [
    {
     "name": "stdout",
     "output_type": "stream",
     "text": [
      "X|O|$\n",
      "O|X|O\n",
      "X|O|X\n"
     ]
    }
   ],
   "source": [
    "place_marker(test_board,'$',8)\n",
    "display_board(test_board)"
   ]
  },
  {
   "cell_type": "code",
   "execution_count": 8,
   "metadata": {},
   "outputs": [],
   "source": [
    "def win_check(board,mark):\n",
    "    #WIN TIC TAC TOE?\n",
    "    #ALL ROWS AND CHECK TO SEE IF THEY ALL SHARE THE SAME MARKER?\n",
    "    #ALL COLUMNS,CHECK TO SEE IF MARKER MATCHES\n",
    "    #2 DIAGONALS,CHECK TO SEE MATCH\n",
    "    if((board[0]==mark==board[1]==board[2]) or(board[3]==mark==board[4]==board[5]) or (board[6]==mark==board[7]==board[8]) or (board[0]==mark==board[3]==board[6]) or (board[1]==mark==board[4]==board[7]) or (board[2]==mark==board[5]==board[8]) or (board[0]==mark==board[4]==board[8]) or (board[2]==mark==board[4]==board[6])):\n",
    "        return True"
   ]
  },
  {
   "cell_type": "code",
   "execution_count": 9,
   "metadata": {},
   "outputs": [
    {
     "data": {
      "text/plain": [
       "True"
      ]
     },
     "execution_count": 9,
     "metadata": {},
     "output_type": "execute_result"
    }
   ],
   "source": [
    "win_check(test_board,'X')"
   ]
  },
  {
   "cell_type": "code",
   "execution_count": 10,
   "metadata": {},
   "outputs": [],
   "source": [
    "# \n",
    "import random\n",
    "def choose_first():\n",
    "    flip = random.randint(0,1)\n",
    "\n",
    "    if flip == 0:\n",
    "        return 'Player1'\n",
    "    else:\n",
    "        return 'Player2'"
   ]
  },
  {
   "cell_type": "code",
   "execution_count": 11,
   "metadata": {},
   "outputs": [],
   "source": [
    "def space_check(board,position):\n",
    "    return board[position] == ' '"
   ]
  },
  {
   "cell_type": "code",
   "execution_count": 12,
   "metadata": {},
   "outputs": [],
   "source": [
    "def full_board_check(board):\n",
    "    for i in range(0,9):\n",
    "        # if board[i] != ' ':\n",
    "        #     return True\n",
    "        # else:\n",
    "        #     return False\n",
    "        if space_check(board,i):\n",
    "            return False\n",
    "        #BOARD IS FULL IS WE RETURN TRUE\n",
    "        return True"
   ]
  },
  {
   "cell_type": "code",
   "execution_count": 13,
   "metadata": {},
   "outputs": [
    {
     "data": {
      "text/plain": [
       "True"
      ]
     },
     "execution_count": 13,
     "metadata": {},
     "output_type": "execute_result"
    }
   ],
   "source": [
    "full_board_check(test_board)"
   ]
  },
  {
   "cell_type": "code",
   "execution_count": 14,
   "metadata": {},
   "outputs": [],
   "source": [
    "def player_choice(board):\n",
    "    position = 'wrong'\n",
    "    while position not in [0,1,2,3,4,5,6,7,8] or not space_check(board,position):\n",
    "        position = int(input('Choose a position : (0-8)'))\n",
    "\n",
    "    return position\n"
   ]
  },
  {
   "cell_type": "code",
   "execution_count": 15,
   "metadata": {},
   "outputs": [],
   "source": [
    "def replay():\n",
    "    choice = 'wrong'\n",
    "    while choice not in ['YES','NO']:\n",
    "        choice = input(\"Play again? Enter YES or NO\")\n",
    "        return choice == 'YES'"
   ]
  },
  {
   "cell_type": "code",
   "execution_count": 17,
   "metadata": {},
   "outputs": [
    {
     "name": "stdout",
     "output_type": "stream",
     "text": [
      " |X|O\n",
      " |X|O\n",
      " | |O\n",
      "PLAYER 2 HAS WON!!\n"
     ]
    }
   ],
   "source": [
    "#WHILE LOOP TO KEEP RUNNING THE GAME\n",
    "print('Welcome to TIC TAC TOE')\n",
    "while True:\n",
    "    # PLAY THE GAME\n",
    "\n",
    "    ## SET EVERYTHING UP (BOARD,WHOS FIRST,CHOOSE,MARKER X,O)\n",
    "    the_board = [' ']*10\n",
    "    player1_marker,player2_marker = player_input()\n",
    "\n",
    "    turn = choose_first()\n",
    "    print(turn + 'will go first')\n",
    "\n",
    "    play_game = input('Ready to play? y or n?')\n",
    "    if play_game == 'y':\n",
    "        game_on = True\n",
    "    else:\n",
    "        game_on = False\n",
    "\n",
    "    ## GAME PLAY\n",
    "    while game_on:\n",
    "        if turn == 'Player 1':\n",
    "            #show the board\n",
    "            display_board(the_board)\n",
    "            #Choose a position\n",
    "            position = player_choice(the_board)\n",
    "            #Place the marker on the position\n",
    "            place_marker(the_board,player1_marker,position)\n",
    "            #check if they won\n",
    "            if win_check(the_board,player1_marker):\n",
    "                display_board(the_board)\n",
    "                print('PLAYER 1 HAS WON!!')\n",
    "                game_on = False\n",
    "\n",
    "            else:\n",
    "                if full_board_check(the_board):\n",
    "                    display_board(the_board)\n",
    "                    print(\"TIE GAME !\")\n",
    "                    game_on = False\n",
    "                else:\n",
    "                    turn = 'Player 2'\n",
    "        \n",
    "            #Or check if there is a tie\n",
    "\n",
    "            #No tie and no win? Then next player's turn\n",
    "        else:\n",
    "             #show the board\n",
    "            display_board(the_board)\n",
    "            #Choose a position\n",
    "            position = player_choice(the_board)\n",
    "            #Place the marker on the position\n",
    "            place_marker(the_board,player2_marker,position)\n",
    "            #check if they won\n",
    "            if win_check(the_board,player2_marker):\n",
    "                display_board(the_board)\n",
    "                print('PLAYER 2 HAS WON!!')\n",
    "                game_on = False\n",
    "\n",
    "            else:\n",
    "                if full_board_check(the_board):\n",
    "                    display_board(the_board)\n",
    "                    print(\"TIE GAME !\")\n",
    "                    game_on = False\n",
    "                else:\n",
    "                    turn = 'Player 1'\n",
    "    if not replay():\n",
    "        break\n",
    "\n",
    "#BREAK OUT OF THE WHILE LOOP ON replay"
   ]
  }
 ],
 "metadata": {
  "kernelspec": {
   "display_name": "Python 3",
   "language": "python",
   "name": "python3"
  },
  "language_info": {
   "codemirror_mode": {
    "name": "ipython",
    "version": 3
   },
   "file_extension": ".py",
   "mimetype": "text/x-python",
   "name": "python",
   "nbconvert_exporter": "python",
   "pygments_lexer": "ipython3",
   "version": "3.11.5"
  }
 },
 "nbformat": 4,
 "nbformat_minor": 2
}
